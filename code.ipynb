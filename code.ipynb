{
 "cells": [
  {
   "cell_type": "code",
   "execution_count": 196,
   "metadata": {},
   "outputs": [],
   "source": [
    "import pandas as pd\n",
    "import numpy as np\n",
    "import matplotlib.pyplot as plt\n",
    "from mpl_toolkits.mplot3d import Axes3D\n",
    "\n",
    "import statsmodels.api as sm\n",
    "from statsmodels.stats.outliers_influence import variance_inflation_factor \n",
    "\n",
    "from sklearn.preprocessing import StandardScaler\n",
    "from sklearn.preprocessing import LabelEncoder\n",
    "from sklearn.metrics import confusion_matrix, f1_score, make_scorer\n",
    "from sklearn.decomposition import PCA\n",
    "\n",
    "from sklearn.ensemble import RandomForestClassifier\n",
    "from sklearn.model_selection import GridSearchCV\n",
    "\n",
    "from itertools import combinations\n",
    "from sklearn.impute import SimpleImputer"
   ]
  },
  {
   "cell_type": "code",
   "execution_count": 197,
   "metadata": {},
   "outputs": [],
   "source": [
    "import seaborn as sns"
   ]
  },
  {
   "cell_type": "markdown",
   "metadata": {},
   "source": [
    "# Data preparation"
   ]
  },
  {
   "cell_type": "code",
   "execution_count": 198,
   "metadata": {},
   "outputs": [],
   "source": [
    "train_data = pd.read_csv('aps_failure_training_set.csv')\n",
    "test_data = pd.read_csv('aps_failure_test_set.csv')"
   ]
  },
  {
   "cell_type": "code",
   "execution_count": 199,
   "metadata": {},
   "outputs": [
    {
     "data": {
      "text/html": [
       "<div>\n",
       "<style scoped>\n",
       "    .dataframe tbody tr th:only-of-type {\n",
       "        vertical-align: middle;\n",
       "    }\n",
       "\n",
       "    .dataframe tbody tr th {\n",
       "        vertical-align: top;\n",
       "    }\n",
       "\n",
       "    .dataframe thead th {\n",
       "        text-align: right;\n",
       "    }\n",
       "</style>\n",
       "<table border=\"1\" class=\"dataframe\">\n",
       "  <thead>\n",
       "    <tr style=\"text-align: right;\">\n",
       "      <th></th>\n",
       "      <th>class</th>\n",
       "      <th>aa_000</th>\n",
       "      <th>ab_000</th>\n",
       "      <th>ac_000</th>\n",
       "      <th>ad_000</th>\n",
       "      <th>ae_000</th>\n",
       "      <th>af_000</th>\n",
       "      <th>ag_000</th>\n",
       "      <th>ag_001</th>\n",
       "      <th>ag_002</th>\n",
       "      <th>...</th>\n",
       "      <th>ee_002</th>\n",
       "      <th>ee_003</th>\n",
       "      <th>ee_004</th>\n",
       "      <th>ee_005</th>\n",
       "      <th>ee_006</th>\n",
       "      <th>ee_007</th>\n",
       "      <th>ee_008</th>\n",
       "      <th>ee_009</th>\n",
       "      <th>ef_000</th>\n",
       "      <th>eg_000</th>\n",
       "    </tr>\n",
       "  </thead>\n",
       "  <tbody>\n",
       "    <tr>\n",
       "      <th>0</th>\n",
       "      <td>neg</td>\n",
       "      <td>76698</td>\n",
       "      <td>na</td>\n",
       "      <td>2130706438</td>\n",
       "      <td>280</td>\n",
       "      <td>0</td>\n",
       "      <td>0</td>\n",
       "      <td>0</td>\n",
       "      <td>0</td>\n",
       "      <td>0</td>\n",
       "      <td>...</td>\n",
       "      <td>1240520</td>\n",
       "      <td>493384</td>\n",
       "      <td>721044</td>\n",
       "      <td>469792</td>\n",
       "      <td>339156</td>\n",
       "      <td>157956</td>\n",
       "      <td>73224</td>\n",
       "      <td>0</td>\n",
       "      <td>0</td>\n",
       "      <td>0</td>\n",
       "    </tr>\n",
       "    <tr>\n",
       "      <th>1</th>\n",
       "      <td>neg</td>\n",
       "      <td>33058</td>\n",
       "      <td>na</td>\n",
       "      <td>0</td>\n",
       "      <td>na</td>\n",
       "      <td>0</td>\n",
       "      <td>0</td>\n",
       "      <td>0</td>\n",
       "      <td>0</td>\n",
       "      <td>0</td>\n",
       "      <td>...</td>\n",
       "      <td>421400</td>\n",
       "      <td>178064</td>\n",
       "      <td>293306</td>\n",
       "      <td>245416</td>\n",
       "      <td>133654</td>\n",
       "      <td>81140</td>\n",
       "      <td>97576</td>\n",
       "      <td>1500</td>\n",
       "      <td>0</td>\n",
       "      <td>0</td>\n",
       "    </tr>\n",
       "    <tr>\n",
       "      <th>2</th>\n",
       "      <td>neg</td>\n",
       "      <td>41040</td>\n",
       "      <td>na</td>\n",
       "      <td>228</td>\n",
       "      <td>100</td>\n",
       "      <td>0</td>\n",
       "      <td>0</td>\n",
       "      <td>0</td>\n",
       "      <td>0</td>\n",
       "      <td>0</td>\n",
       "      <td>...</td>\n",
       "      <td>277378</td>\n",
       "      <td>159812</td>\n",
       "      <td>423992</td>\n",
       "      <td>409564</td>\n",
       "      <td>320746</td>\n",
       "      <td>158022</td>\n",
       "      <td>95128</td>\n",
       "      <td>514</td>\n",
       "      <td>0</td>\n",
       "      <td>0</td>\n",
       "    </tr>\n",
       "    <tr>\n",
       "      <th>3</th>\n",
       "      <td>neg</td>\n",
       "      <td>12</td>\n",
       "      <td>0</td>\n",
       "      <td>70</td>\n",
       "      <td>66</td>\n",
       "      <td>0</td>\n",
       "      <td>10</td>\n",
       "      <td>0</td>\n",
       "      <td>0</td>\n",
       "      <td>0</td>\n",
       "      <td>...</td>\n",
       "      <td>240</td>\n",
       "      <td>46</td>\n",
       "      <td>58</td>\n",
       "      <td>44</td>\n",
       "      <td>10</td>\n",
       "      <td>0</td>\n",
       "      <td>0</td>\n",
       "      <td>0</td>\n",
       "      <td>4</td>\n",
       "      <td>32</td>\n",
       "    </tr>\n",
       "    <tr>\n",
       "      <th>4</th>\n",
       "      <td>neg</td>\n",
       "      <td>60874</td>\n",
       "      <td>na</td>\n",
       "      <td>1368</td>\n",
       "      <td>458</td>\n",
       "      <td>0</td>\n",
       "      <td>0</td>\n",
       "      <td>0</td>\n",
       "      <td>0</td>\n",
       "      <td>0</td>\n",
       "      <td>...</td>\n",
       "      <td>622012</td>\n",
       "      <td>229790</td>\n",
       "      <td>405298</td>\n",
       "      <td>347188</td>\n",
       "      <td>286954</td>\n",
       "      <td>311560</td>\n",
       "      <td>433954</td>\n",
       "      <td>1218</td>\n",
       "      <td>0</td>\n",
       "      <td>0</td>\n",
       "    </tr>\n",
       "    <tr>\n",
       "      <th>...</th>\n",
       "      <td>...</td>\n",
       "      <td>...</td>\n",
       "      <td>...</td>\n",
       "      <td>...</td>\n",
       "      <td>...</td>\n",
       "      <td>...</td>\n",
       "      <td>...</td>\n",
       "      <td>...</td>\n",
       "      <td>...</td>\n",
       "      <td>...</td>\n",
       "      <td>...</td>\n",
       "      <td>...</td>\n",
       "      <td>...</td>\n",
       "      <td>...</td>\n",
       "      <td>...</td>\n",
       "      <td>...</td>\n",
       "      <td>...</td>\n",
       "      <td>...</td>\n",
       "      <td>...</td>\n",
       "      <td>...</td>\n",
       "      <td>...</td>\n",
       "    </tr>\n",
       "    <tr>\n",
       "      <th>59995</th>\n",
       "      <td>neg</td>\n",
       "      <td>153002</td>\n",
       "      <td>na</td>\n",
       "      <td>664</td>\n",
       "      <td>186</td>\n",
       "      <td>0</td>\n",
       "      <td>0</td>\n",
       "      <td>0</td>\n",
       "      <td>0</td>\n",
       "      <td>0</td>\n",
       "      <td>...</td>\n",
       "      <td>998500</td>\n",
       "      <td>566884</td>\n",
       "      <td>1290398</td>\n",
       "      <td>1218244</td>\n",
       "      <td>1019768</td>\n",
       "      <td>717762</td>\n",
       "      <td>898642</td>\n",
       "      <td>28588</td>\n",
       "      <td>0</td>\n",
       "      <td>0</td>\n",
       "    </tr>\n",
       "    <tr>\n",
       "      <th>59996</th>\n",
       "      <td>neg</td>\n",
       "      <td>2286</td>\n",
       "      <td>na</td>\n",
       "      <td>2130706538</td>\n",
       "      <td>224</td>\n",
       "      <td>0</td>\n",
       "      <td>0</td>\n",
       "      <td>0</td>\n",
       "      <td>0</td>\n",
       "      <td>0</td>\n",
       "      <td>...</td>\n",
       "      <td>10578</td>\n",
       "      <td>6760</td>\n",
       "      <td>21126</td>\n",
       "      <td>68424</td>\n",
       "      <td>136</td>\n",
       "      <td>0</td>\n",
       "      <td>0</td>\n",
       "      <td>0</td>\n",
       "      <td>0</td>\n",
       "      <td>0</td>\n",
       "    </tr>\n",
       "    <tr>\n",
       "      <th>59997</th>\n",
       "      <td>neg</td>\n",
       "      <td>112</td>\n",
       "      <td>0</td>\n",
       "      <td>2130706432</td>\n",
       "      <td>18</td>\n",
       "      <td>0</td>\n",
       "      <td>0</td>\n",
       "      <td>0</td>\n",
       "      <td>0</td>\n",
       "      <td>0</td>\n",
       "      <td>...</td>\n",
       "      <td>792</td>\n",
       "      <td>386</td>\n",
       "      <td>452</td>\n",
       "      <td>144</td>\n",
       "      <td>146</td>\n",
       "      <td>2622</td>\n",
       "      <td>0</td>\n",
       "      <td>0</td>\n",
       "      <td>0</td>\n",
       "      <td>0</td>\n",
       "    </tr>\n",
       "    <tr>\n",
       "      <th>59998</th>\n",
       "      <td>neg</td>\n",
       "      <td>80292</td>\n",
       "      <td>na</td>\n",
       "      <td>2130706432</td>\n",
       "      <td>494</td>\n",
       "      <td>0</td>\n",
       "      <td>0</td>\n",
       "      <td>0</td>\n",
       "      <td>0</td>\n",
       "      <td>0</td>\n",
       "      <td>...</td>\n",
       "      <td>699352</td>\n",
       "      <td>222654</td>\n",
       "      <td>347378</td>\n",
       "      <td>225724</td>\n",
       "      <td>194440</td>\n",
       "      <td>165070</td>\n",
       "      <td>802280</td>\n",
       "      <td>388422</td>\n",
       "      <td>0</td>\n",
       "      <td>0</td>\n",
       "    </tr>\n",
       "    <tr>\n",
       "      <th>59999</th>\n",
       "      <td>neg</td>\n",
       "      <td>40222</td>\n",
       "      <td>na</td>\n",
       "      <td>698</td>\n",
       "      <td>628</td>\n",
       "      <td>0</td>\n",
       "      <td>0</td>\n",
       "      <td>0</td>\n",
       "      <td>0</td>\n",
       "      <td>0</td>\n",
       "      <td>...</td>\n",
       "      <td>440066</td>\n",
       "      <td>183200</td>\n",
       "      <td>344546</td>\n",
       "      <td>254068</td>\n",
       "      <td>225148</td>\n",
       "      <td>158304</td>\n",
       "      <td>170384</td>\n",
       "      <td>158</td>\n",
       "      <td>0</td>\n",
       "      <td>0</td>\n",
       "    </tr>\n",
       "  </tbody>\n",
       "</table>\n",
       "<p>60000 rows × 171 columns</p>\n",
       "</div>"
      ],
      "text/plain": [
       "      class  aa_000 ab_000      ac_000 ad_000 ae_000 af_000 ag_000 ag_001  \\\n",
       "0       neg   76698     na  2130706438    280      0      0      0      0   \n",
       "1       neg   33058     na           0     na      0      0      0      0   \n",
       "2       neg   41040     na         228    100      0      0      0      0   \n",
       "3       neg      12      0          70     66      0     10      0      0   \n",
       "4       neg   60874     na        1368    458      0      0      0      0   \n",
       "...     ...     ...    ...         ...    ...    ...    ...    ...    ...   \n",
       "59995   neg  153002     na         664    186      0      0      0      0   \n",
       "59996   neg    2286     na  2130706538    224      0      0      0      0   \n",
       "59997   neg     112      0  2130706432     18      0      0      0      0   \n",
       "59998   neg   80292     na  2130706432    494      0      0      0      0   \n",
       "59999   neg   40222     na         698    628      0      0      0      0   \n",
       "\n",
       "      ag_002  ...   ee_002  ee_003   ee_004   ee_005   ee_006  ee_007  ee_008  \\\n",
       "0          0  ...  1240520  493384   721044   469792   339156  157956   73224   \n",
       "1          0  ...   421400  178064   293306   245416   133654   81140   97576   \n",
       "2          0  ...   277378  159812   423992   409564   320746  158022   95128   \n",
       "3          0  ...      240      46       58       44       10       0       0   \n",
       "4          0  ...   622012  229790   405298   347188   286954  311560  433954   \n",
       "...      ...  ...      ...     ...      ...      ...      ...     ...     ...   \n",
       "59995      0  ...   998500  566884  1290398  1218244  1019768  717762  898642   \n",
       "59996      0  ...    10578    6760    21126    68424      136       0       0   \n",
       "59997      0  ...      792     386      452      144      146    2622       0   \n",
       "59998      0  ...   699352  222654   347378   225724   194440  165070  802280   \n",
       "59999      0  ...   440066  183200   344546   254068   225148  158304  170384   \n",
       "\n",
       "       ee_009 ef_000 eg_000  \n",
       "0           0      0      0  \n",
       "1        1500      0      0  \n",
       "2         514      0      0  \n",
       "3           0      4     32  \n",
       "4        1218      0      0  \n",
       "...       ...    ...    ...  \n",
       "59995   28588      0      0  \n",
       "59996       0      0      0  \n",
       "59997       0      0      0  \n",
       "59998  388422      0      0  \n",
       "59999     158      0      0  \n",
       "\n",
       "[60000 rows x 171 columns]"
      ]
     },
     "execution_count": 199,
     "metadata": {},
     "output_type": "execute_result"
    }
   ],
   "source": [
    "train_data"
   ]
  },
  {
   "cell_type": "markdown",
   "metadata": {},
   "source": [
    "for info, these are the histogram features [ag , ay , az , ba , cn , cs , ee]"
   ]
  },
  {
   "cell_type": "markdown",
   "metadata": {},
   "source": [
    "### plot"
   ]
  },
  {
   "cell_type": "code",
   "execution_count": 200,
   "metadata": {},
   "outputs": [
    {
     "data": {
      "image/png": "[encoded data removed]",
      "text/plain": [
       "<Figure size 640x480 with 1 Axes>"
      ]
     },
     "metadata": {},
     "output_type": "display_data"
    }
   ],
   "source": [
    "class_counts = train_data['class'].value_counts()\n",
    "\n",
    "total_samples = len(train_data)\n",
    "positive_percentage = (class_counts['pos'] / total_samples) * 100\n",
    "negative_percentage = (class_counts['neg'] / total_samples) * 100\n",
    "\n",
    "# Plotting\n",
    "plt.bar(class_counts.index, class_counts.values, color=['blue', 'red'], alpha=0.5)\n",
    "plt.xlabel('Class')\n",
    "plt.ylabel('Count')\n",
    "plt.title('Distribution of Positive and Negative Classes')\n",
    "plt.text(1, class_counts['pos'], f'{positive_percentage:.2f}%', ha='center')\n",
    "plt.text(0, class_counts['neg'], f'{negative_percentage:.2f}%', ha='center')\n",
    "plt.show()"
   ]
  },
  {
   "cell_type": "markdown",
   "metadata": {},
   "source": [
    "### plot"
   ]
  },
  {
   "cell_type": "code",
   "execution_count": 201,
   "metadata": {},
   "outputs": [
    {
     "data": {
      "image/png": "[encoded data removed]",
      "text/plain": [
       "<Figure size 640x480 with 1 Axes>"
      ]
     },
     "metadata": {},
     "output_type": "display_data"
    }
   ],
   "source": [
    "# Plotting\n",
    "labels = ['Positive - 1.67%', 'Negative - 98.33%']\n",
    "sizes = [positive_percentage, negative_percentage]\n",
    "colors = ['#C74B50', '#712B75']\n",
    "explode = (0.3, 0)  # explode the 1st slice (Positive)\n",
    "\n",
    "patches, texts = plt.pie(sizes, explode=explode, colors=colors, shadow=False, startangle=140, wedgeprops = {\"linewidth\": 0, \"edgecolor\": \"white\"})\n",
    "plt.axis('equal')\n",
    "plt.title('Distribution of Positive and Negative Classes')\n",
    "plt.legend(labels=labels)\n",
    "plt.show()"
   ]
  },
  {
   "cell_type": "markdown",
   "metadata": {},
   "source": [
    "neg -> 0\n",
    "\n",
    "pos -> 1 : trucks with a problem"
   ]
  },
  {
   "cell_type": "code",
   "execution_count": 202,
   "metadata": {},
   "outputs": [
    {
     "name": "stderr",
     "output_type": "stream",
     "text": [
      "/var/folders/yj/6cwm4qyj6qz3dkx7t8z3qxc40000gn/T/ipykernel_1648/1030849399.py:1: FutureWarning: errors='ignore' is deprecated and will raise in a future version. Use to_numeric without passing `errors` and catch exceptions explicitly instead\n",
      "  train_data = train_data.apply(pd.to_numeric, errors='ignore');\n",
      "/var/folders/yj/6cwm4qyj6qz3dkx7t8z3qxc40000gn/T/ipykernel_1648/1030849399.py:2: FutureWarning: errors='ignore' is deprecated and will raise in a future version. Use to_numeric without passing `errors` and catch exceptions explicitly instead\n",
      "  test_data = test_data.apply(pd.to_numeric, errors='ignore');\n"
     ]
    }
   ],
   "source": [
    "train_data = train_data.apply(pd.to_numeric, errors='ignore');\n",
    "test_data = test_data.apply(pd.to_numeric, errors='ignore');"
   ]
  },
  {
   "cell_type": "code",
   "execution_count": 203,
   "metadata": {},
   "outputs": [],
   "source": [
    "train_data['class'] = train_data['class'].map({'neg': 0, 'pos': 1})\n",
    "test_data['class'] = test_data['class'].map({'neg': 0, 'pos': 1})"
   ]
  },
  {
   "cell_type": "markdown",
   "metadata": {},
   "source": [
    "## missing values: imputing per class"
   ]
  },
  {
   "cell_type": "code",
   "execution_count": 204,
   "metadata": {},
   "outputs": [],
   "source": [
    "# replace 'na' with np.nan float\n",
    "train_data.replace('na', np.nan, inplace=True)\n",
    "test_data.replace('na', np.nan, inplace=True) \n",
    "\n",
    "na_counts = train_data.isna().sum()\n",
    "\n",
    "# drop the features that have too many NA values (more than 35,000)\n",
    "bad_features = na_counts[na_counts > 35000].index\n",
    "train_data = train_data.drop(columns=bad_features)\n",
    "test_data = test_data.drop(columns=bad_features)\n",
    "\n",
    "# impute\n",
    "positive_train = train_data[train_data['class'] == 1]\n",
    "negative_train = train_data[train_data['class'] == 0]\n",
    "\n",
    "imputer_pos = SimpleImputer(strategy='median')\n",
    "imputer_neg = SimpleImputer(strategy='median')\n",
    "\n",
    "# Fit the imputer on the DataFrame and transform the data\n",
    "positive_train = pd.DataFrame(imputer_pos.fit_transform(positive_train), columns=train_data.columns)\n",
    "negative_train = pd.DataFrame(imputer_neg.fit_transform(negative_train), columns=train_data.columns)\n",
    "\n",
    "train_data = pd.concat([positive_train, negative_train])\n",
    "train_data.reset_index(drop=True, inplace=True)\n",
    "#==========\n",
    "\n",
    "# impute\n",
    "positive_test = test_data[test_data['class'] == 1]\n",
    "negative_test = test_data[test_data['class'] == 0]\n",
    "\n",
    "# Fit the imputer on the DataFrame and transform the data\n",
    "positive_test = pd.DataFrame(imputer_pos.transform(positive_test), columns=train_data.columns)\n",
    "negative_test = pd.DataFrame(imputer_neg.transform(negative_test), columns=train_data.columns)\n",
    "\n",
    "\n",
    "test_data = pd.concat([positive_test, negative_test])\n",
    "test_data.reset_index(drop=True, inplace=True)\n"
   ]
  },
  {
   "cell_type": "code",
   "execution_count": 205,
   "metadata": {},
   "outputs": [],
   "source": [
    "train_data.to_csv('out.csv', index=False)"
   ]
  },
  {
   "cell_type": "code",
   "execution_count": 206,
   "metadata": {},
   "outputs": [],
   "source": [
    "import pipelines as pipe"
   ]
  },
  {
   "cell_type": "code",
   "execution_count": 207,
   "metadata": {},
   "outputs": [],
   "source": [
    "x_train = train_data.drop(['class'], axis=1)\n",
    "x_test = test_data.drop(['class'], axis=1)\n",
    "\n",
    "y_train = train_data['class'].astype(int)\n",
    "y_test = test_data['class'].astype(int)"
   ]
  },
  {
   "cell_type": "markdown",
   "metadata": {},
   "source": [
    "# From here we use pipelines"
   ]
  },
  {
   "cell_type": "code",
   "execution_count": 208,
   "metadata": {},
   "outputs": [
    {
     "data": {
      "text/plain": [
       "array([ 6.45453113e-01, -4.32858719e-01, -4.07463580e-03, -4.13224252e-02,\n",
       "       -5.13580802e-02, -1.07622955e-02, -2.83695832e-02, -5.69299196e-02,\n",
       "       -1.00094894e-01,  1.06688322e-01, -2.37768336e-01, -4.16066155e-01,\n",
       "       -3.49754818e-01, -1.60737781e-01, -2.99784625e-02,  2.02181598e-01,\n",
       "        3.33470269e-02, -2.25908920e-02, -1.24340521e-02, -5.50407488e-02,\n",
       "       -5.52124620e-02,  2.69506630e-01,  2.08272838e-01,  1.83673672e-01,\n",
       "        5.37531728e-01,  2.83254932e-01, -1.14505864e-02, -4.21798742e-02,\n",
       "       -1.45175435e-02,  4.23389689e-02,  3.42105654e-01, -2.67179846e-02,\n",
       "       -1.89306909e-02, -2.54787933e-02, -3.48009464e-02, -2.96278176e-02,\n",
       "       -7.98431865e-02, -3.27529690e-01, -2.83267383e-01, -2.03452401e-02,\n",
       "       -1.18017734e-02, -1.02950181e-01, -1.29116638e-01, -7.50812233e-02,\n",
       "       -1.32633906e-01, -3.51050152e-01, -1.81651567e-01, -1.07244383e-02,\n",
       "       -2.03369352e-02, -4.40927582e-02, -1.28472127e-02, -1.83368484e-01,\n",
       "       -3.01276148e-01, -2.86934222e-01, -3.16784413e-01, -3.41414999e-01,\n",
       "       -3.35735857e-01, -3.00554089e-01, -3.47300282e-01, -1.46446396e-01,\n",
       "       -1.06050714e-01,  2.41911790e-01,  3.28946267e-02, -1.60009462e-01,\n",
       "        3.80627668e-02,  4.14434786e-01,  2.02388737e-01,  4.53669064e-01,\n",
       "       -9.21558345e-02,  3.87946813e-01,  5.12647244e-02, -4.85178808e-02,\n",
       "        2.08230303e+00,  6.44773423e-01,  2.43662731e-01,  2.43662663e-01,\n",
       "       -2.92939381e-01, -3.67846506e-01,  5.16622393e-01,  1.95208691e+00,\n",
       "        1.93404814e+00,  3.25606708e-01,  0.00000000e+00, -4.40631211e-01,\n",
       "       -4.08354087e-03,  6.88551311e-01, -1.29110205e-02,  1.35450606e+00,\n",
       "        4.85868220e+00,  2.69934316e+00, -6.70331272e-02, -1.84970584e-01,\n",
       "       -3.79717685e-02, -8.88029014e-02, -1.18371618e-01, -1.87369627e-01,\n",
       "       -2.57806290e-01, -3.17142012e-01, -2.30352476e-01, -5.78539209e-02,\n",
       "       -9.00326649e-02, -2.91786424e-02, -4.08271773e-03, -7.18210336e-02,\n",
       "        2.43662682e-01, -4.77475058e-01, -2.51452899e-01, -1.86020028e-01,\n",
       "        1.57944415e-02, -1.55433690e-01, -3.26765266e-01, -3.38381623e-01,\n",
       "       -1.48838880e-01, -2.07911463e-02, -4.20294207e-03,  1.29105745e-01,\n",
       "        2.69646188e-01,  2.62897023e+00,  1.94791660e+00, -2.73219541e-02,\n",
       "       -3.48602185e-02, -3.40515001e-02, -1.59758621e-01,  2.63399796e+00,\n",
       "        1.45011341e+00, -9.30494484e-02, -1.91232459e-02, -2.59835817e-02,\n",
       "        9.49068840e-02,  3.40351899e+00, -8.51112752e-03, -2.69987044e-02,\n",
       "       -2.51643505e-02, -2.75777616e-02,  1.83200823e-01, -4.69174065e-01,\n",
       "       -5.01869707e-01, -4.53928123e-02, -1.45658179e-01, -4.38428842e-01,\n",
       "       -4.62698988e-01, -3.46657260e-01, -2.82195759e-01, -1.86078098e-01,\n",
       "       -1.28261310e-01, -1.94811014e-02, -2.86153918e-02, -2.27628037e-01,\n",
       "       -3.93460974e-01, -3.70919638e-01, -8.97142729e-02, -1.89870515e-01,\n",
       "       -2.72646113e-01, -3.38971716e-01, -3.52183307e-01, -3.31186662e-01,\n",
       "       -2.78380878e-01, -1.99516752e-01, -3.06835754e-01, -1.75698618e-01,\n",
       "       -2.02567552e-02, -2.35397175e-02])"
      ]
     },
     "execution_count": 208,
     "metadata": {},
     "output_type": "execute_result"
    }
   ],
   "source": [
    "x_train, x_test, y_train, y_test = pipe.pipeline(x_train, x_test, y_train, y_test,\n",
    "                                                scaler='standard',\n",
    "                                                imputer='pass',\n",
    "                                                oversampling='random',\n",
    "                                                VIF='no')\n",
    "x_train[0]"
   ]
  },
  {
   "cell_type": "code",
   "execution_count": 209,
   "metadata": {},
   "outputs": [
    {
     "data": {
      "text/plain": [
       "(118000, 162)"
      ]
     },
     "execution_count": 209,
     "metadata": {},
     "output_type": "execute_result"
    }
   ],
   "source": [
    "x_train.shape"
   ]
  },
  {
   "cell_type": "markdown",
   "metadata": {},
   "source": [
    "## pca"
   ]
  },
  {
   "cell_type": "code",
   "execution_count": 210,
   "metadata": {},
   "outputs": [
    {
     "data": {
      "text/plain": [
       "\"# sample 1000 data points\\nrandom_indices = np.random.choice(x_train.shape[0], size=1000, replace=False)\\nx_train_sampled = x_train[random_indices]\\ny_train_sampled = y_train[random_indices]\\n\\n# covariance matrix\\ncov_matrix = np.cov(x_train_sampled, rowvar=False)\\neigenvalues, eigenvectors = np.linalg.eig(cov_matrix)\\n\\nn_components = 2\\ntop_eigenvectors = eigenvectors[:, :n_components]\\n\\nx_train_pca = np.dot(x_train_sampled, top_eigenvectors)\\n\\n# Plot\\nplt.figure(figsize=(8, 6))\\nclasses = np.unique(y_train_sampled)\\ncolors = ['r', 'g']\\n\\nfor cls, color in zip(classes, colors):\\n    idx = np.where(y_train_sampled == cls)\\n    plt.scatter(x_train_pca[idx, 0], x_train_pca[idx, 1], c=color, label=f'Class {cls}', alpha=0.2)\\n\\nplt.title('PCA of Training Data (Sampled)')\\nplt.xlabel('Principal Component 1')\\nplt.ylabel('Principal Component 2')\\nplt.legend()\\nplt.show()\\n\""
      ]
     },
     "execution_count": 210,
     "metadata": {},
     "output_type": "execute_result"
    }
   ],
   "source": [
    "'''# sample 1000 data points\n",
    "random_indices = np.random.choice(x_train.shape[0], size=1000, replace=False)\n",
    "x_train_sampled = x_train[random_indices]\n",
    "y_train_sampled = y_train[random_indices]\n",
    "\n",
    "# covariance matrix\n",
    "cov_matrix = np.cov(x_train_sampled, rowvar=False)\n",
    "eigenvalues, eigenvectors = np.linalg.eig(cov_matrix)\n",
    "\n",
    "n_components = 2\n",
    "top_eigenvectors = eigenvectors[:, :n_components]\n",
    "\n",
    "x_train_pca = np.dot(x_train_sampled, top_eigenvectors)\n",
    "\n",
    "# Plot\n",
    "plt.figure(figsize=(8, 6))\n",
    "classes = np.unique(y_train_sampled)\n",
    "colors = ['r', 'g']\n",
    "\n",
    "for cls, color in zip(classes, colors):\n",
    "    idx = np.where(y_train_sampled == cls)\n",
    "    plt.scatter(x_train_pca[idx, 0], x_train_pca[idx, 1], c=color, label=f'Class {cls}', alpha=0.2)\n",
    "\n",
    "plt.title('PCA of Training Data (Sampled)')\n",
    "plt.xlabel('Principal Component 1')\n",
    "plt.ylabel('Principal Component 2')\n",
    "plt.legend()\n",
    "plt.show()\n",
    "'''"
   ]
  },
  {
   "cell_type": "code",
   "execution_count": 211,
   "metadata": {},
   "outputs": [
    {
     "data": {
      "text/plain": [
       "\"# pca\\nrandom_indices = np.random.choice(x_train.shape[0], size=10000, replace=False)\\nx_train_sampled = x_train[random_indices]\\ny_train_sampled = y_train[random_indices]\\n\\ncov_matrix = np.cov(x_train_sampled, rowvar=False)\\n\\neigenvalues, eigenvectors = np.linalg.eig(cov_matrix)\\n\\nn_components = 3\\ntop_eigenvectors = eigenvectors[:, :n_components]\\n\\nx_train_pca = np.dot(x_train_sampled, top_eigenvectors)\\n\\n#plot\\nfig = plt.figure(figsize=(15, 5))\\nangles = [(10, 45), (-40, 170), (10, 10)]\\nfor i, (elev, azim) in enumerate(angles):\\n    ax = fig.add_subplot(1, 3, i+1, projection='3d')\\n    ax.set_title(f'PCA of Training Data (Subplot {i+1})')\\n    ax.set_xlabel('Principal Component 1')\\n    ax.set_ylabel('Principal Component 2')\\n    ax.set_zlabel('Principal Component 3')\\n    \\n    for cls in np.unique(y_train_sampled):\\n        idx = np.where(y_train_sampled == cls)\\n        ax.scatter(x_train_pca[idx, 0], x_train_pca[idx, 1], x_train_pca[idx, 2], label=f'Class {cls}', alpha=0.05)\\n    ax.view_init(elev=elev, azim=azim)\\n\\nplt.tight_layout()\\nplt.show()\\n\\n# san cone, ta negatives einai mazemena sti myth\\n\""
      ]
     },
     "execution_count": 211,
     "metadata": {},
     "output_type": "execute_result"
    }
   ],
   "source": [
    "'''# pca\n",
    "random_indices = np.random.choice(x_train.shape[0], size=10000, replace=False)\n",
    "x_train_sampled = x_train[random_indices]\n",
    "y_train_sampled = y_train[random_indices]\n",
    "\n",
    "cov_matrix = np.cov(x_train_sampled, rowvar=False)\n",
    "\n",
    "eigenvalues, eigenvectors = np.linalg.eig(cov_matrix)\n",
    "\n",
    "n_components = 3\n",
    "top_eigenvectors = eigenvectors[:, :n_components]\n",
    "\n",
    "x_train_pca = np.dot(x_train_sampled, top_eigenvectors)\n",
    "\n",
    "#plot\n",
    "fig = plt.figure(figsize=(15, 5))\n",
    "angles = [(10, 45), (-40, 170), (10, 10)]\n",
    "for i, (elev, azim) in enumerate(angles):\n",
    "    ax = fig.add_subplot(1, 3, i+1, projection='3d')\n",
    "    ax.set_title(f'PCA of Training Data (Subplot {i+1})')\n",
    "    ax.set_xlabel('Principal Component 1')\n",
    "    ax.set_ylabel('Principal Component 2')\n",
    "    ax.set_zlabel('Principal Component 3')\n",
    "    \n",
    "    for cls in np.unique(y_train_sampled):\n",
    "        idx = np.where(y_train_sampled == cls)\n",
    "        ax.scatter(x_train_pca[idx, 0], x_train_pca[idx, 1], x_train_pca[idx, 2], label=f'Class {cls}', alpha=0.05)\n",
    "    ax.view_init(elev=elev, azim=azim)\n",
    "\n",
    "plt.tight_layout()\n",
    "plt.show()\n",
    "\n",
    "# san cone, ta negatives einai mazemena sti myth\n",
    "'''"
   ]
  },
  {
   "cell_type": "markdown",
   "metadata": {},
   "source": [
    "# Testing models"
   ]
  },
  {
   "cell_type": "code",
   "execution_count": 214,
   "metadata": {},
   "outputs": [],
   "source": [
    "from sklearn.model_selection import GridSearchCV\n",
    "from sklearn.metrics import make_scorer, confusion_matrix, f1_score\n",
    "import numpy as np"
   ]
  },
  {
   "cell_type": "code",
   "execution_count": 215,
   "metadata": {},
   "outputs": [],
   "source": [
    "y_train = y_train.to_numpy()\n",
    "y_test = y_test.to_numpy()"
   ]
  },
  {
   "cell_type": "markdown",
   "metadata": {},
   "source": [
    "## Random Forest"
   ]
  },
  {
   "cell_type": "code",
   "execution_count": 216,
   "metadata": {},
   "outputs": [
    {
     "data": {
      "text/plain": [
       "'\\nrf = RandomForestClassifier(n_jobs=-1, class_weight={0:1, 1:1.5}, random_state=42)\\n\\n# hp tuning\\nparam_grid = {\\n    \\'max_depth\\': [5], #[3,5,7,9]\\n    \\'n_estimators\\': [22] #[10,20,22,50]\\n}\\ngrid_search = GridSearchCV(rf, param_grid, scoring=\\'f1_macro\\', cv=5)\\ngrid_search.fit(x_train, y_train)\\n\\n# calculations\\ny_pred = grid_search.predict(x_test)\\nconf_m = confusion_matrix(y_test, y_pred)\\ntn, fp, fn, tp = conf_m.ravel()\\ncost = (10 * fp) + (500 * fn)\\n\\n# output\\nprint(\"Best parameters found:\", grid_search.best_params_)\\nprint(\"Best score found:\", grid_search.best_score_)\\nprint(f\\' macro f1 = {f1_score(y_test, y_pred, average=\"macro\")}\\')\\nprint(\"Test Cost : \", cost)\\nprint(conf_m)\\n'"
      ]
     },
     "execution_count": 216,
     "metadata": {},
     "output_type": "execute_result"
    }
   ],
   "source": [
    "'''\n",
    "rf = RandomForestClassifier(n_jobs=-1, class_weight={0:1, 1:1.5}, random_state=42)\n",
    "\n",
    "# hp tuning\n",
    "param_grid = {\n",
    "    'max_depth': [5], #[3,5,7,9]\n",
    "    'n_estimators': [22] #[10,20,22,50]\n",
    "}\n",
    "grid_search = GridSearchCV(rf, param_grid, scoring='f1_macro', cv=5)\n",
    "grid_search.fit(x_train, y_train)\n",
    "\n",
    "# calculations\n",
    "y_pred = grid_search.predict(x_test)\n",
    "conf_m = confusion_matrix(y_test, y_pred)\n",
    "tn, fp, fn, tp = conf_m.ravel()\n",
    "cost = (10 * fp) + (500 * fn)\n",
    "\n",
    "# output\n",
    "print(\"Best parameters found:\", grid_search.best_params_)\n",
    "print(\"Best score found:\", grid_search.best_score_)\n",
    "print(f' macro f1 = {f1_score(y_test, y_pred, average=\"macro\")}')\n",
    "print(\"Test Cost : \", cost)\n",
    "print(conf_m)\n",
    "'''"
   ]
  },
  {
   "cell_type": "code",
   "execution_count": 217,
   "metadata": {},
   "outputs": [
    {
     "data": {
      "text/plain": [
       "'rf = RandomForestClassifier(n_jobs=-1, class_weight={0:1, 1:1.5}, random_state=42)\\n\\n# hp tuning\\nparam_grid = {\\n    \\'max_depth\\': [3,5,7,9],\\n    \\'n_estimators\\': [20,22,50] #[10,20,22,50]\\n}\\ngrid_search = GridSearchCV(rf, param_grid, scoring=\\'f1_macro\\' , cv=5)\\ngrid_search.fit(x_train, y_train)\\n\\n# calculations\\ny_pred = grid_search.predict(x_test)\\nconf_m = confusion_matrix(y_test, y_pred)\\ntn, fp, fn, tp = conf_m.ravel()\\ncost = (10 * fp) + (500 * fn)\\n\\n# output\\nprint(\"Best parameters found:\", grid_search.best_params_)\\nprint(\"Best score found:\", grid_search.best_score_)\\nprint(f\\' macro f1 = {f1_score(y_test, y_pred, average=\"macro\")}\\')\\nprint(\"Test Cost : \", cost)\\nprint(conf_m)\\n'"
      ]
     },
     "execution_count": 217,
     "metadata": {},
     "output_type": "execute_result"
    }
   ],
   "source": [
    "'''rf = RandomForestClassifier(n_jobs=-1, class_weight={0:1, 1:1.5}, random_state=42)\n",
    "\n",
    "# hp tuning\n",
    "param_grid = {\n",
    "    'max_depth': [3,5,7,9],\n",
    "    'n_estimators': [20,22,50] #[10,20,22,50]\n",
    "}\n",
    "grid_search = GridSearchCV(rf, param_grid, scoring='f1_macro' , cv=5)\n",
    "grid_search.fit(x_train, y_train)\n",
    "\n",
    "# calculations\n",
    "y_pred = grid_search.predict(x_test)\n",
    "conf_m = confusion_matrix(y_test, y_pred)\n",
    "tn, fp, fn, tp = conf_m.ravel()\n",
    "cost = (10 * fp) + (500 * fn)\n",
    "\n",
    "# output\n",
    "print(\"Best parameters found:\", grid_search.best_params_)\n",
    "print(\"Best score found:\", grid_search.best_score_)\n",
    "print(f' macro f1 = {f1_score(y_test, y_pred, average=\"macro\")}')\n",
    "print(\"Test Cost : \", cost)\n",
    "print(conf_m)\n",
    "'''"
   ]
  },
  {
   "cell_type": "code",
   "execution_count": 218,
   "metadata": {},
   "outputs": [
    {
     "name": "stdout",
     "output_type": "stream",
     "text": [
      "Best parameters found: {'max_depth': 7, 'n_estimators': 22}\n",
      "Best score found: 0.9893388595883217\n",
      " macro f1 = 0.8860133441109178\n",
      "Test Cost :  6490\n",
      "[[15426   199]\n",
      " [    9   366]]\n"
     ]
    }
   ],
   "source": [
    "rf = RandomForestClassifier(n_jobs=-1, class_weight={0:1, 1:1.5}, random_state=42)\n",
    "\n",
    "# hp tuning\n",
    "param_grid = {\n",
    "    'max_depth': [7],\n",
    "    'n_estimators': [22] #[10,20,22,50]\n",
    "}\n",
    "grid_search = GridSearchCV(rf, param_grid, scoring='f1_macro' , cv=5)\n",
    "grid_search.fit(x_train, y_train)\n",
    "\n",
    "# calculations\n",
    "y_pred = grid_search.predict(x_test)\n",
    "conf_m = confusion_matrix(y_test, y_pred)\n",
    "tn, fp, fn, tp = conf_m.ravel()\n",
    "cost = (10 * fp) + (500 * fn)\n",
    "\n",
    "# output\n",
    "print(\"Best parameters found:\", grid_search.best_params_)\n",
    "print(\"Best score found:\", grid_search.best_score_)\n",
    "print(f' macro f1 = {f1_score(y_test, y_pred, average=\"macro\")}')\n",
    "print(\"Test Cost : \", cost)\n",
    "print(conf_m)"
   ]
  },
  {
   "cell_type": "code",
   "execution_count": 219,
   "metadata": {},
   "outputs": [
    {
     "name": "stdout",
     "output_type": "stream",
     "text": [
      "Best parameters found: {'max_depth': 5, 'n_estimators': 22}\n",
      "Best score found: 0.9820419544771127\n",
      " macro f1 = 0.8305634258706581\n",
      "Test Cost :  6530\n",
      "[[15272   353]\n",
      " [    6   369]]\n"
     ]
    }
   ],
   "source": [
    "rf = RandomForestClassifier(n_jobs=-1, class_weight={0:1, 1:1.5}, random_state=42)\n",
    "\n",
    "# hp tuning\n",
    "param_grid = {\n",
    "    'max_depth': [5],\n",
    "    'n_estimators': [22] #[10,20,22,50]\n",
    "}\n",
    "grid_search = GridSearchCV(rf, param_grid, scoring='f1_macro' , cv=5)\n",
    "grid_search.fit(x_train, y_train)\n",
    "\n",
    "# calculations\n",
    "y_pred = grid_search.predict(x_test)\n",
    "conf_m = confusion_matrix(y_test, y_pred)\n",
    "tn, fp, fn, tp = conf_m.ravel()\n",
    "cost = (10 * fp) + (500 * fn)\n",
    "\n",
    "# output\n",
    "print(\"Best parameters found:\", grid_search.best_params_)\n",
    "print(\"Best score found:\", grid_search.best_score_)\n",
    "print(f' macro f1 = {f1_score(y_test, y_pred, average=\"macro\")}')\n",
    "print(\"Test Cost : \", cost)\n",
    "print(conf_m)"
   ]
  },
  {
   "cell_type": "code",
   "execution_count": 220,
   "metadata": {},
   "outputs": [
    {
     "name": "stdout",
     "output_type": "stream",
     "text": [
      "Best parameters found: {'max_depth': 5, 'n_estimators': 22}\n",
      "Best score found: 0.9827282746092122\n",
      " macro f1 = 0.8412474058133885\n",
      "Test Cost :  6690\n",
      "[[15306   319]\n",
      " [    7   368]]\n",
      "(16000,)\n",
      "(16000,)\n"
     ]
    },
    {
     "data": {
      "image/png": "[encoded data removed]",
      "text/plain": [
       "<Figure size 640x480 with 1 Axes>"
      ]
     },
     "metadata": {},
     "output_type": "display_data"
    }
   ],
   "source": [
    "rf = RandomForestClassifier(n_jobs=-1, class_weight={0:1, 1:1.5})\n",
    "\n",
    "# hp tuning\n",
    "param_grid = {\n",
    "    'max_depth': [5],\n",
    "    'n_estimators': [22] #[10,20,22,50]\n",
    "}\n",
    "grid_search = GridSearchCV(rf, param_grid, scoring='f1_macro' , cv=5)\n",
    "grid_search.fit(x_train, y_train)\n",
    "\n",
    "# calculations\n",
    "y_pred = grid_search.predict(x_test)\n",
    "conf_m = confusion_matrix(y_test, y_pred)\n",
    "tn, fp, fn, tp = conf_m.ravel()\n",
    "cost = (10 * fp) + (500 * fn)\n",
    "\n",
    "# output\n",
    "print(\"Best parameters found:\", grid_search.best_params_)\n",
    "print(\"Best score found:\", grid_search.best_score_)\n",
    "print(f' macro f1 = {f1_score(y_test, y_pred, average=\"macro\")}')\n",
    "print(\"Test Cost : \", cost)\n",
    "print(conf_m)\n",
    "\n",
    "# ROC\n",
    "\n",
    "# calculate roc curves\n",
    "print(y_pred.shape)\n",
    "print(y_test.shape)\n",
    "fpr, tpr, thresholds = roc_curve(y_test, y_pred)\n",
    "\n",
    "# plot the roc curve\n",
    "plt.plot([0,1], [0,1], linestyle='--', label='')\n",
    "plt.plot(fpr, tpr, marker='.')\n",
    "plt.xlabel('False Positive Rate')\n",
    "plt.ylabel('True Positive Rate')\n",
    "plt.show()"
   ]
  },
  {
   "cell_type": "code",
   "execution_count": 221,
   "metadata": {},
   "outputs": [
    {
     "name": "stdout",
     "output_type": "stream",
     "text": [
      "Best parameters found: {'class_weight': {0: 1, 1: 1.5}, 'max_depth': 5, 'n_estimators': 25}\n",
      "Best score found: 0.9819910903494324\n",
      " macro f1 = 0.8318314686781387\n",
      "Test Cost :  6010\n",
      "[[15274   351]\n",
      " [    5   370]]\n"
     ]
    }
   ],
   "source": [
    "rf = RandomForestClassifier(n_jobs=-1)\n",
    "\n",
    "# hp tuning\n",
    "param_grid = {\n",
    "    'class_weight': [{0:1, 1:1.5}],#, {1:1, 1:1.45}, {1:1, 1:1.55} ],\n",
    "    'max_depth': [5],\n",
    "    'n_estimators': [25] #[10,20,22,50]\n",
    "}\n",
    "grid_search = GridSearchCV(rf, param_grid, scoring='f1_macro' , cv=5)\n",
    "grid_search.fit(x_train, y_train)\n",
    "\n",
    "# calculations\n",
    "y_pred = grid_search.predict(x_test)\n",
    "conf_m = confusion_matrix(y_test, y_pred)\n",
    "tn, fp, fn, tp = conf_m.ravel()\n",
    "cost = (10 * fp) + (500 * fn)\n",
    "\n",
    "# output\n",
    "print(\"Best parameters found:\", grid_search.best_params_)\n",
    "print(\"Best score found:\", grid_search.best_score_)\n",
    "print(f' macro f1 = {f1_score(y_test, y_pred, average=\"macro\")}')\n",
    "print(\"Test Cost : \", cost)\n",
    "print(conf_m)"
   ]
  }
 ],
 "metadata": {
  "kernelspec": {
   "display_name": "Python 3 (ipykernel)",
   "language": "python",
   "name": "python3"
  },
  "language_info": {
   "codemirror_mode": {
    "name": "ipython",
    "version": 3
   },
   "file_extension": ".py",
   "mimetype": "text/x-python",
   "name": "python",
   "nbconvert_exporter": "python",
   "pygments_lexer": "ipython3",
   "version": "3.12.4"
  }
 },
 "nbformat": 4,
 "nbformat_minor": 2
}
